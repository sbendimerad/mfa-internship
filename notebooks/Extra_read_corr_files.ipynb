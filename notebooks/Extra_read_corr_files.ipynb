{
 "cells": [
  {
   "cell_type": "code",
   "execution_count": null,
   "id": "9105dfdb",
   "metadata": {},
   "outputs": [
    {
     "name": "stdout",
     "output_type": "stream",
     "text": [
      "✅ Cluster 4\n",
      "Original correlation matrix shape: (306, 306)\n",
      "Reordered matrix shape: (306, 306)\n",
      "Reordered indices (global): [ 431  451  496  436  256  421  426  456  641  461  476   66   86   26\n",
      "  171   51    6   41  276  141  291  131  176  251  266  771  651  761\n",
      "  701  711  806  786 1491  776 1481  726  746  756  801  126  166  286\n",
      "  121  241   61   21   36  161  191  311  521  306  201  356  321  366\n",
      "  606  316  511  441  501  446  516  506  466  481  661  581  526  676\n",
      "  486  666  696  536  686  636  471  491  796  751  631  646  546  596\n",
      "  611  401  336  556  541  571  381  626  246  296  261  281  221  231\n",
      "  271  301  101  111  151   76  136 1146 1296  376  391 1256 1271 1136\n",
      " 1281 1126 1276 1211 1226 1171 1141 1336 1086 1156 1191 1326 1181 1346\n",
      " 1201 1216 1186 1321  931  976  851  946  941  986  961 1081  916 1066\n",
      " 1096  351  146  156  566  341  186  206  591  741 1356 1401  656  716\n",
      "  731 1476 1521 1416 1431 1316 1376 1391 1076  926 1106  951  966 1111\n",
      " 1051  901 1036  416  996 1016  181  196  331  346  236 1001  891  906\n",
      "  991 1006  211  226 1046 1121  361 1026  406 1021 1056 1161   81   96\n",
      "   71  116  881  326  531  816  831   91  886  106  871  371  411 1031\n",
      " 1176 1116 1166  911 1041 1101 1061 1071  671 1361 1371  691  706 1386\n",
      " 1366  721  736  621 1236  386  396 1286 1246 1351 1131 1151 1406 1266\n",
      " 1301 1311 1341  616 1231 1241  586  601 1251  681  576  551  561 1261\n",
      " 1291 1306 1381 1396 1451 1466 1511 1411 1426  766  781 1486 1501 1441\n",
      " 1456 1506 1436 1526  791 1496 1471 1516 1421 1446 1461 1206 1221 1196\n",
      " 1331  216 1011    1  841   46  856  811  826  866   31   56  921  956\n",
      "  936  981  971 1091  821   11   16  846  861  896  836  876]\n"
     ]
    }
   ],
   "source": [
    "\n",
    "# === Load correlation matrix bundles ===\n",
    "base_path = \"../results/real/benchmark\"\n",
    "corr_all = np.load(os.path.join(base_path, \"corr_all_clusters.npz\"), allow_pickle=True)\n",
    "reordered_all = np.load(os.path.join(base_path, \"corr_reordered_all_clusters.npz\"), allow_pickle=True)\n",
    "indices_all = np.load(os.path.join(base_path, \"corr_reordered_indices.npz\"), allow_pickle=True)\n",
    "\n",
    "# === Build manipulable dictionary ===\n",
    "clusters = list(corr_all.keys())\n",
    "corr_bundle = {}\n",
    "\n",
    "for cluster_id in clusters:\n",
    "    corr_bundle[cluster_id] = {\n",
    "        \"corr\": corr_all[cluster_id],\n",
    "        \"corr_reordered\": reordered_all[cluster_id],\n",
    "        \"reordered_indices\": indices_all[cluster_id],\n",
    "    }\n",
    "\n",
    "# === Example: how to access and manipulate ===\n",
    "cluster = \"4\"  # <-- modify this\n",
    "bundle = corr_bundle[cluster]\n",
    "\n",
    "C = bundle[\"corr\"]\n",
    "C_reordered = bundle[\"corr_reordered\"]\n",
    "idx_reordered = bundle[\"reordered_indices\"]\n",
    "\n",
    "print(f\"✅ Cluster {cluster}\")\n",
    "print(f\"Original correlation matrix shape: {C.shape}\")\n",
    "print(f\"Reordered matrix shape: {C_reordered.shape}\")\n",
    "print(f\"Reordered indices (global): {idx_reordered}\")\n"
   ]
  }
 ],
 "metadata": {
  "kernelspec": {
   "display_name": "mfa-internship",
   "language": "python",
   "name": "python3"
  },
  "language_info": {
   "codemirror_mode": {
    "name": "ipython",
    "version": 3
   },
   "file_extension": ".py",
   "mimetype": "text/x-python",
   "name": "python",
   "nbconvert_exporter": "python",
   "pygments_lexer": "ipython3",
   "version": "3.10.16"
  }
 },
 "nbformat": 4,
 "nbformat_minor": 5
}
