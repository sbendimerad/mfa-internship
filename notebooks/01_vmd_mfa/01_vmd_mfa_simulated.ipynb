{
 "cells": [
  {
   "cell_type": "markdown",
   "metadata": {},
   "source": [
    "# **Multifractal Analysis on VMD Modes Using `pymultifracs` and `vmdpy`** \n",
    "### *Combining Variational Mode Decomposition with Wavelet-Based MFA*\n",
    "\n",
    "\n",
    "Multifractal analysis (MFA) allows us to study the complex, scale-invariant structures present in real-world signals. While classical MFA is typically applied to full time series, this tutorial explores a **hybrid approach**: we first decompose a signal using **Variational Mode Decomposition (VMD)**, and then apply **wavelet-based multifractal analysis** to each extracted mode.\n",
    "\n",
    "This method helps isolate the scale-free properties **mode by mode**, potentially improving interpretability and revealing **which components carry multifractal behavior**.\n",
    "\n",
    "\n",
    "**🎯 Goal of This Tutorial**\n",
    "\n",
    "- Generate or load a 1D signal (simulated or real).\n",
    "- Decompose the signal into modes using **VMD**.\n",
    "- Apply **wavelet-based MFA** to each individual mode using `pymultifracs`.\n",
    "- Visualize and interpret the **multifractal spectra** of the modes.\n"
   ]
  },
  {
   "cell_type": "code",
   "execution_count": null,
   "metadata": {},
   "outputs": [],
   "source": [
    "import pandas as pd\n",
    "import numpy as np\n",
    "import seaborn as sns\n",
    "import matplotlib.pyplot as plt\n",
    "from pymultifracs.utils import build_q_log\n",
    "from pymultifracs.simul import mrw\n",
    "from pymultifracs.wavelet import wavelet_analysis\n",
    "from pymultifracs.mf_analysis import mfa\n",
    "from sktime.libs.vmdpy import VMD\n",
    "from scipy.signal import welch\n",
    "\n",
    "\n",
    "# In simul => noisy => change mfa to mf_analysis\n",
    "# change the import of wavelet_analysis to wavelet in the noisy script and others locations"
   ]
  },
  {
   "cell_type": "markdown",
   "metadata": {},
   "source": [
    "## 🔹 Step 1: Generate a Synthetic Signal\n",
    "Before applying multifractal analysis, we start by creating a synthetic signal composed of both structured and random components. This allows us to test the VMD+MFA pipeline in a controlled setting.\n",
    "\n",
    "📌 **Goal:** Generate synthetic multifractal signals to analyze.  \n",
    "📌 **Why?** This allows us to test the multifractal analysis (MFA) methods on controlled data.  \n",
    "📌 **Key output:** A 2D array of time series (shape: *(N_samples, N_realizations)*).  "
   ]
  },
  {
   "cell_type": "code",
   "execution_count": null,
   "metadata": {},
   "outputs": [],
   "source": [
    "nb_generated_series = 1\n",
    "X = mrw(shape=(2**15, nb_generated_series), H=0.8, lam=np.sqrt(.05), L=2**15)"
   ]
  },
  {
   "cell_type": "code",
   "execution_count": null,
   "metadata": {},
   "outputs": [],
   "source": [
    "plt.plot(X)\n",
    "plt.title('MRW(0.8, 0.05)')\n",
    "plt.show()"
   ]
  },
  {
   "cell_type": "code",
   "execution_count": null,
   "metadata": {},
   "outputs": [],
   "source": [
    "X.shape"
   ]
  },
  {
   "cell_type": "markdown",
   "metadata": {},
   "source": [
    "## 🔹 Step 2: Multifractal Analysis of the Full Signal\n",
    "\n",
    "Before decomposing the signal into modes, we first apply **Multifractal Analysis (MFA)** directly to the full signal. This gives us a **global multifractal signature** that we'll later compare to the individual VMD modes.\n",
    "\n",
    "We use the `pymultifracs` library, which relies on **wavelet p-leaders** to perform a robust estimation of multifractal properties.\n",
    "\n",
    "Here's what happens step-by-step:\n",
    "\n",
    "1. **Wavelet Transform**  \n",
    "   We compute the discrete wavelet transform of the signal using the `db3` wavelet. This step captures local fluctuations at multiple scales.\n",
    "\n",
    "2. **Compute Wavelet p-Leaders**  \n",
    "   Instead of raw coefficients, we use p-leaders (with exponent `p=2`), which provide a more stable way to estimate local regularity and are better suited for multifractal analysis.\n",
    "\n",
    "3. **Integration over Scale Ranges**  \n",
    "   We select the scales `[6, 11]` as the range for multifractal estimation. These are empirically chosen and should be adapted based on signal length and content.\n",
    "\n",
    "4. **Run Multifractal Regression**  \n",
    "   We estimate the **scaling function** ζ(q), the **log-cumulants** (c₁, c₂, ...), and the **singularity spectrum** D(h).\n",
    "\n",
    "📌 **Why this matters:**  \n",
    "Performing MFA on the full signal allows us to assess:\n",
    "- Whether the original signal is multifractal (nonlinear ζ(q), negative c₂, wide D(h))\n",
    "- How this global signature changes when analyzed mode-by-mode\n",
    "\n",
    "📌 **Key outputs:**\n",
    "- **ζ(q):** Shows how moments of the signal scale across resolutions\n",
    "- **Log-cumulants:** Compact representation of multifractal behavior (c₂ < 0 suggests multifractality)\n",
    "- **D(h) spectrum:** Distribution of local regularity (wider = more complex)\n",
    "\n",
    "This analysis forms our **baseline** before decomposition.\n"
   ]
  },
  {
   "cell_type": "code",
   "execution_count": null,
   "metadata": {},
   "outputs": [],
   "source": [
    "# Define the scaling ranges for analysis\n",
    "#scaling_ranges = [(2, 8), (3, 8)]\n",
    "#scaling_ranges = [[8, 12]]  # A narrower range\n",
    "scaling_ranges = [[6, 11]]"
   ]
  },
  {
   "cell_type": "code",
   "execution_count": null,
   "metadata": {},
   "outputs": [],
   "source": [
    "WT = wavelet_analysis(X, wt_name='db3')\n",
    "WTpL = WT.get_leaders(p_exp=2)\n",
    "WTpL = WTpL.auto_integrate(scaling_ranges)\n",
    "#pwt = mfa(WTpL, scaling_ranges, q=[-2, -1, 0, 1, 2])\n",
    "pwt = mfa(WTpL, scaling_ranges, weighted='Nj', q=build_q_log(.1, 5, 20))\n",
    "\n",
    "\n",
    "# Plot ζ(q)\n",
    "pwt.structure.plot_scaling()\n",
    "plt.title(f\"ζ(q) for The Original Signal\")\n",
    "plt.show()\n",
    "\n",
    "# Plot cumulants\n",
    "pwt.cumulants.plot()\n",
    "plt.title(f\"Cumulants for The Original Signal\")\n",
    "plt.show()\n",
    "\n",
    "# Plot D(h)\n",
    "pwt.spectrum.plot()\n",
    "plt.title(f\"D(h) Spectrum for the Original Signal\")\n",
    "plt.show()"
   ]
  },
  {
   "cell_type": "markdown",
   "metadata": {},
   "source": [
    "## 🔹 Step 3: Interpreting the Multifractal Analysis of the Original Signal"
   ]
  },
  {
   "cell_type": "markdown",
   "metadata": {},
   "source": [
    "### 1. Scaling Function ζ(q)\n",
    "\n",
    "The scaling function ζ(q) describes how the statistical moments of the signal behave across different time scales. In simpler terms, it shows **how patterns in the signal change depending on how \"zoomed in\" or \"zoomed out\" you are**.\n",
    "\n",
    "- A **perfectly straight ζ(q)** line means the signal is *monofractal* (all parts behave similarly).\n",
    "- A **curved ζ(q)** line, like the one we observe, indicates **multifractality**: different parts of the signal behave differently across scales.\n",
    "\n",
    "In our case, ζ(q) is slightly **nonlinear**, which means:\n",
    "> ➤ The signal exhibits **heterogeneous temporal structure**: some parts are smooth, others are more irregular, and these patterns persist across scales.\n",
    "\n",
    "\n",
    "### 2. Log-Cumulants: c₁ and c₂\n",
    "\n",
    "The log-cumulants summarize the shape of ζ(q) mathematically.\n",
    "\n",
    "- **c₁ (≈ 0.83)**: This value reflects the **average local regularity** in the signal. A value near 0.8 suggests the signal is **fairly smooth**, with moderately regular transitions.\n",
    "  \n",
    "- **c₂ (≈ -0.03)**: This captures the **width of the multifractal spectrum** — in other words, how much variability there is in the signal's structure.  \n",
    "  A **negative value of c₂**, indicates **multifractality**. The more negative, the richer the range of fluctuations.\n",
    "\n",
    "In our case:\n",
    "> ➤ The signal contains **structured variability** — but with **modest complexity**.\n",
    "\n",
    "\n",
    "### 3. Multifractal Spectrum D(h)\n",
    "\n",
    "The D(h) spectrum provides a visual summary of **how many different types of local behavior (regularities) exist** in the signal.\n",
    "\n",
    "- The x-axis (h) represents **local regularity**: low h = sharp changes, high h = smoother regions.\n",
    "- The y-axis (D(h)) tells us **how frequent** each regularity is.\n",
    "\n",
    "In our plot:\n",
    "- The spectrum is **broad**, ranging from about 0.4 to 1.0.\n",
    "- This suggests a **mixture of both smooth and irregular regions** in the signal.\n",
    "- The peak of D(h) is near 1, meaning that **most of the signal is relatively smooth**, but **less regular fragments also exist**.\n",
    "\n",
    "> ➤ The signal’s behavior **varies locally**, showing a **diversity of temporal dynamics**.  \n",
    "> ➤ This is typical of biological signals like EEG or fMRI, which combine regular rhythms with bursts of irregularity.\n",
    "\n",
    "\n",
    "\n",
    "Even when the differences are subtle (as here), **multifractal analysis captures patterns that simpler methods may miss.**\n"
   ]
  },
  {
   "cell_type": "markdown",
   "metadata": {},
   "source": [
    "# 🔹 Step 4: Decompose the Signal Using VMD\n",
    "\n",
    "We apply VMD to split the signal into \\( K \\) modes, each corresponding to a specific frequency band. This helps isolate components that may carry distinct dynamical features."
   ]
  },
  {
   "cell_type": "markdown",
   "metadata": {},
   "source": [
    "VMD is a modern alternative to Empirical Mode Decomposition (EMD), formulated as a **variational optimization problem**. Unlike EMD, VMD:\n",
    "- Is based on solid mathematical principles\n",
    "- Is non-recursive and avoids mode mixing\n",
    "- Decomposes the signal by minimizing the total bandwidth of each mode\n",
    "\n",
    "\n",
    "### How VMD Works (Intuition)\n",
    "\n",
    "VMD assumes that a signal is composed of multiple **amplitude- and frequency-modulated oscillatory components**.  \n",
    "It aims to find a set of modes \\( u_k(t) \\) and their associated center frequencies \\( \\omega_k \\) such that:\n",
    "\n",
    "1. Each mode has **limited bandwidth** in the frequency domain\n",
    "2. The sum of all modes reconstructs the original signal\n",
    "3. The total bandwidth across modes is minimized (regularization)\n",
    "\n",
    "This is solved using the **Alternating Direction Method of Multipliers (ADMM)** to iteratively update both the modes and their frequencies.\n",
    "\n",
    "📌 **Why this matters:**\n",
    "\n",
    "By applying VMD to a multifractal signal like an MRW, we can:\n",
    "- See how complexity is distributed across frequency bands\n",
    "- Apply MFA to each mode independently\n",
    "- Explore whether **multifractality is global or localized** to specific components\n",
    "\n",
    "Below are the key parameters used in the decomposition, with their roles:\n",
    "\n",
    "| Parameter | Meaning |\n",
    "|-----------|---------|\n",
    "| `alpha`   | **Bandwidth constraint**. Controls how narrow each mode should be in frequency. Larger values enforce tighter frequency localization. |\n",
    "| `tau`     | **Noise-tolerance** level. A value of `0.` assumes a perfectly noiseless signal; higher values allow looser reconstruction. |\n",
    "| `K`       | **Number of modes** to extract. This determines how many distinct components the signal will be split into. |\n",
    "| `DC`      | **DC component inclusion**. If `1`, one mode is fixed to zero frequency (for extracting a trend or baseline); if `0`, no such constraint. |\n",
    "| `init`    | **Initialization method** for center frequencies. `1` = uniformly distributed, `0` = all at zero. |\n",
    "| `tol`     | **Convergence tolerance**. Determines when the algorithm should stop iterating. Smaller values lead to more precise convergence, but longer computation. |\n"
   ]
  },
  {
   "cell_type": "code",
   "execution_count": null,
   "metadata": {},
   "outputs": [],
   "source": [
    "signal = X[:, 0]   # Extract the 1D array\n",
    "N = len(signal)\n",
    "frequencies = np.fft.fftshift(np.fft.fftfreq(N, d=1/N)) * 2 * np.pi\n",
    "signal_fft = np.fft.fftshift(np.fft.fft(signal))\n",
    "colors = ['b', 'g', 'm', 'c', 'r', 'y', 'k']  \n",
    "\n",
    "\n",
    "alpha = 2000       \n",
    "tau = 0.            \n",
    "K = 3               \n",
    "DC = 0              \n",
    "init = 1            \n",
    "tol = 1e-7          \n",
    "\n",
    "u, u_hat, omega = VMD(signal, alpha, tau, K, DC, init, tol)\n",
    "\n",
    "# Sort modes by increasing final frequency\n",
    "sortIndex = np.argsort(omega[-1, :])\n",
    "omega = omega[:, sortIndex]\n",
    "u_hat = u_hat[:, sortIndex]\n",
    "u = u[sortIndex, :]"
   ]
  },
  {
   "cell_type": "code",
   "execution_count": null,
   "metadata": {},
   "outputs": [],
   "source": [
    "print(\"Shape of u (time-domain modes):\", u.shape)\n",
    "print(\"Shape of u_hat (frequency-domain modes):\", u_hat.shape)\n",
    "print(\"Shape of omega (center frequencies over iterations):\", omega.shape)"
   ]
  },
  {
   "cell_type": "markdown",
   "metadata": {},
   "source": [
    "### 1. Interpretation of VMD Modes:"
   ]
  },
  {
   "cell_type": "code",
   "execution_count": null,
   "metadata": {},
   "outputs": [],
   "source": [
    "plt.figure(figsize=(10, 4))\n",
    "for k in range(K):\n",
    "    plt.plot(u[k, :], color=colors[k % len(colors)], label=f\"Mode {k+1}\")\n",
    "plt.title(\"Decomposed Modes from MRW Signal\")\n",
    "plt.xlabel(\"Time\")\n",
    "plt.ylabel(\"Amplitude\")\n",
    "plt.legend()\n",
    "plt.grid(True)\n",
    "plt.tight_layout()\n",
    "plt.show()\n",
    "\n",
    "plt.figure(figsize=(10, K*2))\n",
    "for k in range(K):\n",
    "    plt.subplot(K, 1, k + 1)\n",
    "    plt.plot(u[k, :], color=colors[k % len(colors)])\n",
    "    plt.title(f\"Decomposed Mode {k+1}\")\n",
    "    plt.xlim(0, N)\n",
    "plt.tight_layout()\n",
    "plt.show()\n"
   ]
  },
  {
   "cell_type": "markdown",
   "metadata": {},
   "source": [
    "**Mode 1 (Blue):**  \n",
    "Smooth and slowly varying — captures low-frequency trends or baseline activity.\n",
    "\n",
    "**Mode 2 (Green):**  \n",
    "Moderate oscillations — represents mid-frequency dynamics or structured fluctuations.\n",
    "\n",
    "**Mode 3 (Magenta):**  \n",
    "Fast, noisy variations — isolates high-frequency content and fine-scale irregularities.\n",
    "\n",
    "These modes reflect different frequency bands of the original MRW signal, and are well-separated.  "
   ]
  },
  {
   "cell_type": "markdown",
   "metadata": {},
   "source": [
    "### 2. Interpretation of Spectral Decomposition:"
   ]
  },
  {
   "cell_type": "code",
   "execution_count": null,
   "metadata": {},
   "outputs": [],
   "source": [
    "plt.figure()\n",
    "plt.loglog(frequencies[N//2:], np.abs(signal_fft[N//2:]), 'k:', label='Original')\n",
    "for k in range(K):\n",
    "    plt.loglog(frequencies[N//2:], np.abs(u_hat[N//2:, k]),\n",
    "               color=colors[k % len(colors)], label=f'Mode {k+1}')\n",
    "plt.xlim([frequencies[N//2], frequencies[-1]])\n",
    "plt.xlabel(\"Frequency (rad/s)\")\n",
    "plt.ylabel(\"Amplitude (log scale)\")\n",
    "plt.title(\"Spectral Decomposition\")\n",
    "plt.legend()\n",
    "plt.grid(True)\n",
    "plt.tight_layout()\n",
    "plt.show()"
   ]
  },
  {
   "cell_type": "markdown",
   "metadata": {},
   "source": [
    "This log-log plot shows the **power spectrum** of the original signal and its VMD modes:\n",
    "\n",
    "- **Black dotted line (Original):**  \n",
    "  The full signal spans a wide range of frequencies, confirming its complex, scale-free nature.\n",
    "\n",
    "- **Blue (Mode 1):**  \n",
    "  Dominates low frequencies — consistent with a slow, smooth trend.\n",
    "\n",
    "- **Green (Mode 2):**  \n",
    "  Peaks in mid frequencies — captures structured, oscillatory components.\n",
    "\n",
    "- **Magenta (Mode 3):**  \n",
    "  Concentrated in high frequencies — isolates fast, noisy fluctuations.\n",
    "\n",
    "Each mode is **well-localized in a different frequency band**."
   ]
  },
  {
   "cell_type": "markdown",
   "metadata": {},
   "source": [
    "### 3. Interpretation of the Frequencies Evolution:"
   ]
  },
  {
   "cell_type": "code",
   "execution_count": null,
   "metadata": {},
   "outputs": [],
   "source": [
    "fs = 1 / N  # Sampling frequency approximation\n",
    "\n",
    "plt.figure(figsize=(8, 4))\n",
    "for k in range(K):\n",
    "    plt.semilogx(2 * np.pi / fs * omega[:, k],\n",
    "                 np.arange(1, omega.shape[0] + 1),\n",
    "                 color=colors[k % len(colors)],\n",
    "                 label=f\"Mode {k+1}\")\n",
    "plt.title(\"Evolution of Center Frequencies ωₖ (VMD iterations)\")\n",
    "plt.xlabel(\"Frequency (rad/s)\")\n",
    "plt.ylabel(\"Iteration\")\n",
    "plt.grid(True, which='both', linestyle='--', linewidth=0.5)\n",
    "plt.legend()\n",
    "plt.tight_layout()\n",
    "plt.show()\n"
   ]
  },
  {
   "cell_type": "markdown",
   "metadata": {},
   "source": [
    "This graph shows how the center frequency of each mode evolves over time (iteration after iteration) during the VMD optimization process.\n",
    "\n",
    "Each colored line is one mode:\n",
    "\n",
    "Blue = Mode 1\n",
    "⟶ quickly locks into a very low frequency → a slow trend\n",
    "\n",
    "Green = Mode 2\n",
    "⟶ stabilizes around middle frequencies\n",
    "\n",
    "Magenta = Mode 3\n",
    "⟶ converges to a high frequency"
   ]
  },
  {
   "cell_type": "markdown",
   "metadata": {},
   "source": [
    "### 4. Interpretation of Power Spectrum via Welch PSD:"
   ]
  },
  {
   "cell_type": "code",
   "execution_count": null,
   "metadata": {},
   "outputs": [],
   "source": [
    "# Welch PSD (in Hz, true PSD with smoothing)\n",
    "plt.figure(figsize=(10, 5))\n",
    "for k in range(K):\n",
    "    f_welch, Pxx = welch(u[k, :], fs=1.0, nperseg=1024)\n",
    "    plt.semilogy(f_welch, Pxx, color=colors[k % len(colors)], label=f\"Mode {k+1}\")\n",
    "plt.title(\"Mode Spectra via Welch PSD\")\n",
    "plt.xlabel(\"Frequency (Hz)\")\n",
    "plt.ylabel(\"Power / Hz\")\n",
    "plt.legend()\n",
    "plt.grid(True)\n",
    "plt.tight_layout()\n",
    "plt.show()\n"
   ]
  },
  {
   "cell_type": "markdown",
   "metadata": {},
   "source": [
    "- **Mode 1 (Blue)**:  \n",
    "  This mode has a **high amplitude at low frequencies**, indicating that it captures **slow oscillations** (like a trend or drift).\n",
    "\n",
    "- **Mode 2 (Green)**:  \n",
    "  This mode captures **oscillations at mid-range frequencies**, with a **moderate decay** of power as the frequency increases.\n",
    "\n",
    "- **Mode 3 (Magenta)**:  \n",
    "  This mode is concentrated at **higher frequencies**, representing **fast oscillations** or fine details of the signal.\n",
    "\n",
    "Each mode extracts a **distinct frequency range**, showing that the VMD decomposition has successfully separated the components of the signal."
   ]
  },
  {
   "cell_type": "markdown",
   "metadata": {},
   "source": [
    "### 5. Interpretation of the orrelation Between Modes (Time Domain)"
   ]
  },
  {
   "cell_type": "code",
   "execution_count": null,
   "metadata": {},
   "outputs": [],
   "source": [
    "df = pd.DataFrame(u.T, columns=[f'Mode {i+1}' for i in range(K)])\n",
    "corr_matrix = df.corr()\n",
    "\n",
    "sns.heatmap(corr_matrix, annot=True, cmap='coolwarm')\n",
    "plt.title(\"Correlation Between Modes (Time Domain)\")\n",
    "plt.show()\n"
   ]
  },
  {
   "cell_type": "markdown",
   "metadata": {},
   "source": [
    "- **Mode 1 vs Mode 2 (0.042)**: Very **low correlation**, indicating that these modes are almost **independent** of each other in the time domain.\n",
    "\n",
    "- **Mode 1 vs Mode 3 (0.004)**: Extremely **low correlation**, showing no significant relationship, which makes sense as Mode 1 captures **slow components**, while Mode 3 captures **high-frequency details**.\n",
    "\n",
    "- **Mode 2 vs Mode 3 (0.1)**: **Slight positive correlation**, indicating a small relationship but still mostly **independent**.\n",
    "\n",
    "The low correlation values suggest that the VMD has successfully decomposed the signal into distinct, independent modes."
   ]
  },
  {
   "cell_type": "markdown",
   "metadata": {},
   "source": [
    "## 🔹 Step 5: Multifractal Analysis (MFA) on VMD Modes\n",
    "\n",
    "In this step, we apply **Multifractal Analysis (MFA)** to the modes extracted from the **Variational Mode Decomposition (VMD)**. This allows us to analyze the **multifractal properties** of each mode separately, which helps us understand the **different dynamics** captured by each mode."
   ]
  },
  {
   "cell_type": "code",
   "execution_count": null,
   "metadata": {},
   "outputs": [],
   "source": [
    "colors = ['b', 'g', 'm', 'c', 'r', 'y', 'k']  # Change if needed\n",
    "\n",
    "# -------------------------\n",
    "# 1. Apply wavelet transform on each mode\n",
    "# -------------------------\n",
    "for k in range(K):\n",
    "    # Compute the discrete wavelet transform (DWT) for each mode\n",
    "    WT = wavelet_analysis(u[k, :], wt_name='db3')  # 'db3' is Daubechies wavelet\n",
    "    \n",
    "    # -------------------------\n",
    "    # 2. Compute wavelet p-leaders\n",
    "    # -------------------------\n",
    "    WTpL = WT.get_leaders(p_exp=2)  # p_exp=2 is a common choice for multifractal analysis\n",
    "    \n",
    "    # -------------------------\n",
    "    # 3. Integrate over scaling range\n",
    "    # -------------------------\n",
    "    # Select scale range [6, 11] for analysis (change as needed)\n",
    "    WTpL = WTpL.auto_integrate(scaling_ranges)  \n",
    "    \n",
    "    # -------------------------\n",
    "    # 4. Perform multifractal regression\n",
    "    # -------------------------\n",
    "    #pwt = mfa(WTpL, scaling_ranges=[[6, 11]], q=[-2, -1, 0, 1, 2])  # q values define the multifractal spectrum\n",
    "    pwt = mfa(WTpL, scaling_ranges, weighted='Nj', q=build_q_log(.1, 5, 20))\n",
    "\n",
    "    # -------------------------\n",
    "    # 5. Plot results\n",
    "    # -------------------------\n",
    "    plt.figure(figsize=(10, 5))\n",
    "    pwt.structure.plot_scaling()\n",
    "    plt.title(f\"ζ(q) for Mode {k+1}\")\n",
    "    plt.show()\n",
    "\n",
    "    # Plot log-cumulants\n",
    "    plt.figure(figsize=(10, 5))\n",
    "    pwt.cumulants.plot()\n",
    "    plt.title(f\"Cumulants for Mode {k+1}\")\n",
    "    plt.show()\n",
    "\n",
    "    # Plot D(h) spectrum\n",
    "    plt.figure(figsize=(10, 5))\n",
    "    #plt.xlim([1, 10**5])  # Expanding the frequency range to give more space\n",
    "    pwt.spectrum.plot()\n",
    "    plt.title(f\"D(h) Spectrum for Mode {k+1}\")\n",
    "    plt.show()\n"
   ]
  }
 ],
 "metadata": {
  "kernelspec": {
   "display_name": "mfa-internship",
   "language": "python",
   "name": "python3"
  },
  "language_info": {
   "codemirror_mode": {
    "name": "ipython",
    "version": 3
   },
   "file_extension": ".py",
   "mimetype": "text/x-python",
   "name": "python",
   "nbconvert_exporter": "python",
   "pygments_lexer": "ipython3",
   "version": "3.10.16"
  }
 },
 "nbformat": 4,
 "nbformat_minor": 2
}
