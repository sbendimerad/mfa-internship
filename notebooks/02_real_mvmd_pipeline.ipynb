{
 "cells": [
  {
   "cell_type": "code",
   "execution_count": 1,
   "id": "4e7ee254",
   "metadata": {},
   "outputs": [],
   "source": [
    "%load_ext autoreload\n",
    "%autoreload 2"
   ]
  },
  {
   "cell_type": "code",
   "execution_count": null,
   "id": "0bebf660",
   "metadata": {},
   "outputs": [],
   "source": [
    "import sys\n",
    "import os\n",
    "import numpy as np\n",
    "import pandas as pd\n",
    "import matplotlib.pyplot as plt\n",
    "import seaborn as sns\n",
    "import mne \n",
    "import scipy.signal as sp_signal\n",
    "from sktime.libs.vmdpy import VMD\n",
    "from sklearn.preprocessing import MinMaxScaler\n",
    "from scipy.signal import periodogram\n",
    "from sklearn.preprocessing import MinMaxScaler\n",
    "from pymultifracs.viz import plot_psd\n",
    "sys.path.append(os.path.abspath(os.path.join(os.getcwd(), \"..\", \"scripts\")))\n",
    "from simulation import generate_synthetic_neural_signal\n",
    "from decomposition import run_all_decompositions\n",
    "from plotting import plot_signal_and_modes\n",
    "from features import compute_features_from_modes_and_save\n",
    "from mfa_utils import compute_mfa, plot_mfa, plot_psd, analyze_signal_and_modes\n",
    "from evaluation import summarize_decomposition_results\n",
    "from pymultifracs import mfa, wavelet_analysis\n",
    "import torch\n",
    "\n",
    "\n",
    "\n",
    "# Go up two levels from notebooks/vmd/ to reach src/mvmd/\n",
    "mvmd_path = os.path.abspath(os.path.join(os.getcwd(), '..', 'scripts', 'mvmd'))\n",
    "sys.path.append(mvmd_path)\n",
    "\n",
    "# Now import mvmd_optimized\n",
    "from mvmd_original import mvmd \n",
    "from mvmd_optimized import mvmd as mvmd_opt"
   ]
  },
  {
   "cell_type": "markdown",
   "id": "018c2ef4",
   "metadata": {},
   "source": [
    "## 1. Signal extraction"
   ]
  },
  {
   "cell_type": "code",
   "execution_count": 3,
   "id": "bf01358d",
   "metadata": {},
   "outputs": [
    {
     "name": "stdout",
     "output_type": "stream",
     "text": [
      "Opening raw data file ../data/real/sub-01_ses-01_task-rest_proc-filt_raw.fif...\n",
      "    Range : 34500 ... 116999 =    138.000 ...   467.996 secs\n",
      "Ready.\n",
      "Reading 0 ... 82499  =      0.000 ...   329.996 secs...\n"
     ]
    }
   ],
   "source": [
    "#raw = mne.io.read_raw_fif(\"../data/sub-01_ses-01_task-rest_proc-filt_raw.fif\")\n",
    "raw = mne.io.read_raw_fif(\"../data/real/sub-01_ses-01_task-rest_proc-filt_raw.fif\", preload=True)"
   ]
  },
  {
   "cell_type": "markdown",
   "id": "72af9f06",
   "metadata": {},
   "source": [
    "## 3. Signal decomposition"
   ]
  },
  {
   "cell_type": "markdown",
   "id": "e2b2f8ae",
   "metadata": {},
   "source": [
    "### Set Parameters:"
   ]
  },
  {
   "cell_type": "code",
   "execution_count": 4,
   "id": "09295058",
   "metadata": {},
   "outputs": [],
   "source": [
    "# Load MEG data\n",
    "raw_meg = raw.copy().pick('meg')\n",
    "data_matrix = raw_meg.get_data()  \n",
    "data_matrix_small = data_matrix[:10, :]  # select first 10 channels\n",
    "\n",
    "\n",
    "# Parameters (from your code)\n",
    "fs = 250  # Sampling frequency\n",
    "duration = 300.0  # Duration to plot (seconds)\n",
    "max_points = 1000\n",
    "methods = [\"MVMD\"]\n",
    "\n",
    "\n",
    "best_vmd_params = {\n",
    "    'meg': {'vmd_alpha': 1, 'vmd_tau': 0, 'vmd_DC': 1, 'vmd_init': 0, 'vmd_tol': 1e-1, 'Nmodes': 5},\n",
    "}\n",
    "\n",
    "output_base = \"../results/real/\"\n",
    "\n",
    "n_channels_to_process = 302  # First 10 magnetometers"
   ]
  },
  {
   "cell_type": "code",
   "execution_count": 5,
   "id": "697a8def",
   "metadata": {},
   "outputs": [],
   "source": [
    "# Load MEG data\n",
    "raw_meg = raw.copy().pick('meg')\n",
    "#data_matrix = raw_meg.get_data()  \n",
    "data_matrix_small = data_matrix[:10, :]  # select first 10 channels\n"
   ]
  },
  {
   "cell_type": "code",
   "execution_count": 4,
   "id": "2274994c",
   "metadata": {},
   "outputs": [
    {
     "ename": "ImportError",
     "evalue": "cannot import name 'mvmd' from 'mvmd' (unknown location)",
     "output_type": "error",
     "traceback": [
      "\u001b[0;31m---------------------------------------------------------------------------\u001b[0m",
      "\u001b[0;31mImportError\u001b[0m                               Traceback (most recent call last)",
      "Cell \u001b[0;32mIn[4], line 1\u001b[0m\n\u001b[0;32m----> 1\u001b[0m \u001b[38;5;28;01mfrom\u001b[39;00m\u001b[38;5;250m \u001b[39m\u001b[38;5;21;01mmvmd\u001b[39;00m\u001b[38;5;250m \u001b[39m\u001b[38;5;28;01mimport\u001b[39;00m mvmd\n\u001b[1;32m      3\u001b[0m \u001b[38;5;66;03m# Example signal\u001b[39;00m\n\u001b[1;32m      4\u001b[0m signal \u001b[38;5;241m=\u001b[39m np\u001b[38;5;241m.\u001b[39mrandom\u001b[38;5;241m.\u001b[39mrand(\u001b[38;5;241m3\u001b[39m, \u001b[38;5;241m100\u001b[39m)  \u001b[38;5;66;03m# 3 channels, 100 samples\u001b[39;00m\n",
      "\u001b[0;31mImportError\u001b[0m: cannot import name 'mvmd' from 'mvmd' (unknown location)"
     ]
    }
   ],
   "source": [
    "from mvmd import mvmd\n",
    "\n",
    "# Example signal\n",
    "signal = np.random.rand(3, 100)  # 3 channels, 100 samples\n",
    "\n",
    "# Decompose the signal\n",
    "modes, modes_hat, omega = mvmd(signal, num_modes=3, alpha=2000, tolerance=1e-3, sampling_rate=1)"
   ]
  },
  {
   "cell_type": "code",
   "execution_count": null,
   "id": "51c47005",
   "metadata": {},
   "outputs": [
    {
     "ename": "",
     "evalue": "",
     "output_type": "error",
     "traceback": [
      "\u001b[1;31mThe Kernel crashed while executing code in the current cell or a previous cell. \n",
      "\u001b[1;31mPlease review the code in the cell(s) to identify a possible cause of the failure. \n",
      "\u001b[1;31mClick <a href='https://aka.ms/vscodeJupyterKernelCrash'>here</a> for more info. \n",
      "\u001b[1;31mView Jupyter <a href='command:jupyter.viewOutput'>log</a> for further details."
     ]
    }
   ],
   "source": [
    "signal_tensor = torch.tensor(data_matrix, dtype=torch.float32)  # shape: (n_channels, n_samples)"
   ]
  },
  {
   "cell_type": "code",
   "execution_count": null,
   "id": "d6f09f1f",
   "metadata": {},
   "outputs": [],
   "source": [
    "u, u_hat, omega = mvmd_opt(signal_tensor, alpha=1, tau=0, K=3, DC=0, init=1, tol=1e-6, max_N=5)\n"
   ]
  },
  {
   "cell_type": "code",
   "execution_count": null,
   "id": "8f13ec63",
   "metadata": {},
   "outputs": [
    {
     "name": "stdout",
     "output_type": "stream",
     "text": [
      "u shape: torch.Size([3, 82500, 306])\n",
      "u_hat shape: torch.Size([82500, 3, 306])\n",
      "omega shape: torch.Size([1, 3])\n"
     ]
    }
   ],
   "source": [
    "print(\"u shape:\", u.shape)\n",
    "print(\"u_hat shape:\", u_hat.shape)\n",
    "print(\"omega shape:\", omega.shape)\n"
   ]
  },
  {
   "cell_type": "code",
   "execution_count": null,
   "id": "11a914c5",
   "metadata": {},
   "outputs": [
    {
     "name": "stdout",
     "output_type": "stream",
     "text": [
      "u min: 0.0\n",
      "u max: 0.0\n",
      "u mean: 0.0\n",
      "u std: 0.0\n"
     ]
    }
   ],
   "source": [
    "print(\"u min:\", u.min().item())\n",
    "print(\"u max:\", u.max().item())\n",
    "print(\"u mean:\", u.mean().item())\n",
    "print(\"u std:\", u.std().item())\n"
   ]
  }
 ],
 "metadata": {
  "kernelspec": {
   "display_name": "mfa-internship",
   "language": "python",
   "name": "python3"
  },
  "language_info": {
   "codemirror_mode": {
    "name": "ipython",
    "version": 3
   },
   "file_extension": ".py",
   "mimetype": "text/x-python",
   "name": "python",
   "nbconvert_exporter": "python",
   "pygments_lexer": "ipython3",
   "version": "3.10.16"
  }
 },
 "nbformat": 4,
 "nbformat_minor": 5
}
